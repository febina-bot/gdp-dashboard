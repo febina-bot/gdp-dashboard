{
  "nbformat": 4,
  "nbformat_minor": 0,
  "metadata": {
    "colab": {
      "provenance": [],
      "gpuType": "T4",
      "authorship_tag": "ABX9TyP8I6vLg26eRortrtPaeE5q",
      "include_colab_link": true
    },
    "kernelspec": {
      "name": "python3",
      "display_name": "Python 3"
    },
    "language_info": {
      "name": "python"
    },
    "accelerator": "GPU"
  },
  "cells": [
    {
      "cell_type": "markdown",
      "metadata": {
        "id": "view-in-github",
        "colab_type": "text"
      },
      "source": [
        "<a href=\"https://colab.research.google.com/github/febina-bot/gdp-dashboard/blob/main/trip.ipynb\" target=\"_parent\"><img src=\"https://colab.research.google.com/assets/colab-badge.svg\" alt=\"Open In Colab\"/></a>"
      ]
    },
    {
      "cell_type": "code",
      "source": [
        "! pip install -r requirements.txt"
      ],
      "metadata": {
        "colab": {
          "base_uri": "https://localhost:8080/"
        },
        "id": "90AAM9m5KgZT",
        "outputId": "53718585-0dca-42f9-d4f9-5b1f7d258a96"
      },
      "execution_count": 15,
      "outputs": [
        {
          "output_type": "stream",
          "name": "stdout",
          "text": [
            "\u001b[31mERROR: Could not open requirements file: [Errno 2] No such file or directory: 'requirements.txt'\u001b[0m\u001b[31m\n",
            "\u001b[0m"
          ]
        }
      ]
    },
    {
      "cell_type": "code",
      "execution_count": null,
      "metadata": {
        "collapsed": true,
        "id": "TfAigvvcp-jL"
      },
      "outputs": [],
      "source": [
        "# Install required packages\n",
        "!pip install pandas streamlit streamlit_jupyter requests\n"
      ]
    },
    {
      "cell_type": "markdown",
      "metadata": {
        "id": "f4fef4eb"
      },
      "source": [
        "First, we need to install `ngrok`."
      ]
    },
    {
      "cell_type": "code",
      "metadata": {
        "collapsed": true,
        "id": "c68bc0ff"
      },
      "source": [
        "# Install ngrok\n",
        "!pip install pyngrok"
      ],
      "execution_count": null,
      "outputs": []
    },
    {
      "cell_type": "markdown",
      "metadata": {
        "id": "3742bf4b"
      },
      "source": [
        "Now, we can set up `ngrok` and run your Streamlit application.\n",
        "\n",
        "You will need to replace `your_streamlit_script.py` with the actual name of your Streamlit application file.\n",
        "\n",
        "After running the cell, `ngrok` will provide a public URL that you can use to access your Streamlit application."
      ]
    },
    {
      "cell_type": "code",
      "source": [
        "import pandas as pd\n",
        "\n",
        "# Initialize empty tables\n",
        "trips = pd.DataFrame(columns=['trip_id', 'name', 'start_date', 'end_date', 'location'])\n",
        "expenses = pd.DataFrame(columns=['expense_id', 'trip_id', 'category', 'amount', 'currency', 'date', 'notes'])\n"
      ],
      "metadata": {
        "id": "9Y2z-zfHsLfB"
      },
      "execution_count": null,
      "outputs": []
    },
    {
      "cell_type": "code",
      "source": [
        "def add_trip(name, start_date, end_date, location):\n",
        "    trip_id = len(trips) + 1\n",
        "    trips.loc[len(trips)] = [trip_id, name, start_date, end_date, location]\n",
        "    return trip_id\n",
        "\n",
        "def add_expense(trip_id, category, amount, currency, date, notes=''):\n",
        "    expense_id = len(expenses) + 1\n",
        "    expenses.loc[len(expenses)] = [expense_id, trip_id, category, amount, currency, date, notes]\n",
        "    return expense_id\n"
      ],
      "metadata": {
        "id": "2UwyqkfNsrpp"
      },
      "execution_count": null,
      "outputs": []
    },
    {
      "cell_type": "code",
      "source": [
        "import requests\n",
        "\n",
        "def convert_currency(amount, src, target='USD'):\n",
        "    url = f\"https://api.exchangerate.host/convert?from={src}&to={target}&amount={amount}\"\n",
        "    r = requests.get(url).json()\n",
        "    return r.get('result', None)\n"
      ],
      "metadata": {
        "id": "-RK4SULRs3Jk"
      },
      "execution_count": null,
      "outputs": []
    },
    {
      "cell_type": "code",
      "source": [
        "!pip install pandas streamlit streamlit_jupyter requests\n"
      ],
      "metadata": {
        "collapsed": true,
        "id": "BuGqKD4Tvo3W"
      },
      "execution_count": null,
      "outputs": []
    },
    {
      "cell_type": "code",
      "source": [
        "import pandas as pd\n",
        "import streamlit as st\n",
        "from streamlit_jupyter import StreamlitPatcher, tqdm\n",
        "import datetime\n",
        "import requests\n",
        "\n",
        "# Enable Streamlit to run inside Colab\n",
        "StreamlitPatcher().jupyter()\n"
      ],
      "metadata": {
        "id": "z-2wBGhUv2k8"
      },
      "execution_count": null,
      "outputs": []
    },
    {
      "cell_type": "code",
      "source": [
        "st.title(\"Trip Companion – Tour Together and Expense Tracker\")\n"
      ],
      "metadata": {
        "id": "o8LY7Q0hv533"
      },
      "execution_count": null,
      "outputs": []
    },
    {
      "cell_type": "code",
      "source": [
        "st.header(\"✅ Streamlit is working in Colab!\")\n",
        "st.write(\"You can now build interactive apps directly in this notebook.\")\n"
      ],
      "metadata": {
        "id": "oSYdBYLvwGne"
      },
      "execution_count": null,
      "outputs": []
    },
    {
      "cell_type": "code",
      "source": [
        "# Add a trip\n",
        "def add_trip(name, start, end, location):\n",
        "    trip_id = len(trips) + 1\n",
        "    trips.loc[len(trips)] = [trip_id, name, start, end, location]\n",
        "    return trip_id\n",
        "\n",
        "# Add an expense\n",
        "def add_expense(trip_id, category, amount, currency, date, notes=\"\"):\n",
        "    expense_id = len(expenses) + 1\n",
        "    expenses.loc[len(expenses)] = [expense_id, trip_id, category, amount, currency, date, notes]\n",
        "    return expense_id\n",
        "\n",
        "# Currency converter (using exchangerate.host)\n",
        "def convert_currency(amount, from_curr, to_curr=\"USD\"):\n",
        "    url = f\"https://api.exchangerate.host/convert?from={from_curr}&to={to_curr}&amount={amount}\"\n",
        "    res = requests.get(url).json()\n",
        "    return res.get(\"result\", None)\n"
      ],
      "metadata": {
        "id": "XpQ38DD10Sxi"
      },
      "execution_count": null,
      "outputs": []
    },
    {
      "cell_type": "code",
      "source": [
        "st.title(\"🌍 Trip Companion – Tour Together and Expense Tracker\")\n",
        "\n",
        "# Trip form\n",
        "st.subheader(\"✈️ Add a Trip\")\n",
        "with st.form(\"trip_form\"):\n",
        "    name = st.text_input(\"Trip Name\")\n",
        "    start = st.date_input(\"Start Date\", datetime.date.today())\n",
        "    end = st.date_input(\"End Date\", datetime.date.today())\n",
        "    location = st.text_input(\"Location\")\n",
        "    submit = st.form_submit_button(\"Add Trip\")\n",
        "    if submit:\n",
        "        tid = add_trip(name, start.isoformat(), end.isoformat(), location)\n",
        "        st.success(f\"Trip #{tid} added!\")\n",
        "\n",
        "# Expense form\n",
        "st.subheader(\"💰 Add an Expense\")\n",
        "with st.form(\"expense_form\"):\n",
        "    trip_id = st.number_input(\"Trip ID\", min_value=1, step=1)\n",
        "    category = st.selectbox(\"Category\", [\"Food\", \"Transport\", \"Lodging\", \"Activity\", \"Other\"])\n",
        "    amount = st.number_input(\"Amount\", min_value=0.0, step=1.0)\n",
        "    currency = st.text_input(\"Currency\", value=\"USD\")\n",
        "    date = st.date_input(\"Expense Date\", datetime.date.today())\n",
        "    notes = st.text_area(\"Notes (optional)\")\n",
        "    submit_exp = st.form_submit_button(\"Add Expense\")\n",
        "    if submit_exp:\n",
        "        eid = add_expense(trip_id, category, amount, currency, date.isoformat(), notes)\n",
        "        st.success(f\"Expense #{eid} added!\")\n",
        "\n",
        "# View data\n",
        "st.subheader(\"📋 All Trips\")\n",
        "st.dataframe(trips)\n",
        "\n",
        "st.subheader(\"📊 All Expenses\")\n",
        "st.dataframe(expenses)\n"
      ],
      "metadata": {
        "id": "o_p6RGdI02BE"
      },
      "execution_count": null,
      "outputs": []
    },
    {
      "cell_type": "code",
      "source": [
        "from google.colab import output\n",
        "output.enable_custom_widget_manager()"
      ],
      "metadata": {
        "id": "0sHYzS55hyp1"
      },
      "execution_count": null,
      "outputs": []
    },
    {
      "cell_type": "markdown",
      "source": [
        "Support for third party widgets will remain active for the duration of the session. To disable support:"
      ],
      "metadata": {
        "id": "SJPPx2wihyp4"
      }
    },
    {
      "cell_type": "code",
      "source": [
        "from google.colab import output\n",
        "output.disable_custom_widget_manager()"
      ],
      "metadata": {
        "id": "NbxB-2PChyp5"
      },
      "execution_count": null,
      "outputs": []
    },
    {
      "cell_type": "code",
      "source": [
        "from google.colab import output\n",
        "output.enable_custom_widget_manager()"
      ],
      "metadata": {
        "id": "lE74aN4o1AxD"
      },
      "execution_count": null,
      "outputs": []
    },
    {
      "cell_type": "code",
      "source": [
        "from google.colab import output\n",
        "output.enable_custom_widget_manager()"
      ],
      "metadata": {
        "id": "CFkXno6J1Do-"
      },
      "execution_count": null,
      "outputs": []
    },
    {
      "cell_type": "markdown",
      "source": [
        "Support for third party widgets will remain active for the duration of the session. To disable support:"
      ],
      "metadata": {
        "id": "cj-zmil01Do_"
      }
    },
    {
      "cell_type": "code",
      "source": [
        "from google.colab import output\n",
        "output.disable_custom_widget_manager()"
      ],
      "metadata": {
        "id": "zNtDfFl-1Do_"
      },
      "execution_count": null,
      "outputs": []
    },
    {
      "cell_type": "markdown",
      "source": [
        "Support for third party widgets will remain active for the duration of the session. To disable support:"
      ],
      "metadata": {
        "id": "C8VpWLXX1AxE"
      }
    },
    {
      "cell_type": "code",
      "source": [
        "from google.colab import output\n",
        "output.disable_custom_widget_manager()"
      ],
      "metadata": {
        "id": "xYtRY3Tz1AxE"
      },
      "execution_count": null,
      "outputs": []
    },
    {
      "cell_type": "code",
      "source": [
        "st.subheader(\"📈 Expense Summary by Trip\")\n",
        "\n",
        "trip_select = st.number_input(\"Enter Trip ID for Summary\", min_value=1, step=1)\n",
        "if st.button(\"Show Summary\"):\n",
        "    df = expenses[expenses[\"Trip ID\"] == trip_select].copy()\n",
        "    df[\"USD Amount\"] = df.apply(lambda row: convert_currency(row[\"Amount\"], row[\"Currency\"]), axis=1)\n",
        "    if df.empty:\n",
        "        st.warning(\"No expenses for this trip.\")\n",
        "    else:\n",
        "        summary = df.groupby(\"Category\")[\"USD Amount\"].sum()\n",
        "        st.bar_chart(summary)\n"
      ],
      "metadata": {
        "collapsed": true,
        "id": "jGEkJ3tD1N0d"
      },
      "execution_count": null,
      "outputs": []
    },
    {
      "cell_type": "code",
      "source": [
        "# Save files to download or Google Drive\n",
        "trips.to_csv(\"trips.csv\", index=False)\n",
        "expenses.to_csv(\"expenses.csv\", index=False)\n"
      ],
      "metadata": {
        "id": "HfZdwmGK2ceN"
      },
      "execution_count": null,
      "outputs": []
    },
    {
      "cell_type": "code",
      "source": [
        "# Create empty dataframes\n",
        "# trips = pd.DataFrame(columns=[\"Trip ID\", \"Trip Name\", \"Start Date\", \"End Date\", \"Location\"])\n",
        "# expenses = pd.DataFrame(columns=[\"Expense ID\", \"Trip ID\", \"Category\", \"Amount\", \"Currency\", \"Date\", \"Notes\"])"
      ],
      "metadata": {
        "id": "3nc2xS203cW5"
      },
      "execution_count": null,
      "outputs": []
    },
    {
      "cell_type": "code",
      "source": [
        "# Function to add trip\n",
        "def add_trip(name, start, end, location):\n",
        "    trip_id = len(trips) + 1\n",
        "    trips.loc[len(trips)] = [trip_id, name, start, end, location]\n",
        "    return trip_id\n",
        "\n",
        "# Function to add expense\n",
        "def add_expense(trip_id, category, amount, currency, date, notes=\"\"):\n",
        "    expense_id = len(expenses) + 1\n",
        "    expenses.loc[len(expenses)] = [expense_id, trip_id, category, amount, currency, date, notes]\n",
        "    return expense_id\n"
      ],
      "metadata": {
        "id": "vpWUI6AK3eY5"
      },
      "execution_count": null,
      "outputs": []
    },
    {
      "cell_type": "code",
      "source": [
        "def add_trip(name, start_date, end_date, location):\n",
        "    \"\"\"\n",
        "    Adds a new trip to the 'trips' DataFrame.\n",
        "\n",
        "    Parameters:\n",
        "        name (str): Name of the trip\n",
        "        start_date (str): Start date in 'YYYY-MM-DD' format\n",
        "        end_date (str): End date in 'YYYY-MM-DD' format\n",
        "        location (str): Destination or location\n",
        "\n",
        "    Returns:\n",
        "        int: Trip ID of the newly added trip\n",
        "    \"\"\"\n",
        "    trip_id = len(trips) + 1\n",
        "    trips.loc[len(trips)] = [trip_id, name, start_date, end_date, location]\n",
        "    return trip_id\n"
      ],
      "metadata": {
        "id": "hL_S2s333k0j"
      },
      "execution_count": null,
      "outputs": []
    },
    {
      "cell_type": "code",
      "source": [
        "# Add a sample trip\n",
        "add_trip(\"Kerala Tour\", \"2025-08-15\", \"2025-08-20\", \"Munnar, Kerala\")\n"
      ],
      "metadata": {
        "id": "KKKRNPhe35mz"
      },
      "execution_count": null,
      "outputs": []
    },
    {
      "cell_type": "code",
      "source": [
        "trips\n"
      ],
      "metadata": {
        "id": "5WasRYui4RMQ"
      },
      "execution_count": null,
      "outputs": []
    },
    {
      "cell_type": "code",
      "source": [
        "def add_expense(trip_id, category, amount, currency, date, notes=\"\"):\n",
        "    \"\"\"\n",
        "    Adds a new expense to the 'expenses' DataFrame.\n",
        "\n",
        "    Parameters:\n",
        "        trip_id (int): The ID of the trip this expense belongs to\n",
        "        category (str): Type of expense (e.g., Food, Travel, Lodging)\n",
        "        amount (float): Amount of the expense\n",
        "        currency (str): Currency code (e.g., USD, INR)\n",
        "        date (str): Date of expense in 'YYYY-MM-DD' format\n",
        "        notes (str): Optional notes for the expense\n",
        "\n",
        "    Returns:\n",
        "        int: Expense ID of the newly added expense\n",
        "    \"\"\"\n",
        "    expense_id = len(expenses) + 1\n",
        "    expenses.loc[len(expenses)] = [\n",
        "        expense_id, trip_id, category, amount, currency, date, notes\n",
        "    ]\n",
        "    return expense_id\n"
      ],
      "metadata": {
        "id": "dcyp9YVd4iLo"
      },
      "execution_count": null,
      "outputs": []
    },
    {
      "cell_type": "code",
      "source": [
        "# Add a sample expense\n",
        "add_expense(trip_id=1, category=\"Food\", amount=250, currency=\"INR\", date=\"2025-08-16\", notes=\"Lunch at hotel\")\n"
      ],
      "metadata": {
        "id": "OkaB6hxM4k-T"
      },
      "execution_count": null,
      "outputs": []
    },
    {
      "cell_type": "code",
      "source": [
        "expenses\n"
      ],
      "metadata": {
        "id": "WKRFj7YT55L2"
      },
      "execution_count": null,
      "outputs": []
    },
    {
      "cell_type": "code",
      "source": [
        "st.title(\"🌍 Trip Companion – Tour Together and Expense Tracker\")\n",
        "\n",
        "# ---------------------- Trip Form ---------------------- #\n",
        "st.subheader(\"✈️ Add a New Trip\")\n",
        "\n",
        "with st.form(\"trip_form\"):\n",
        "    name = st.text_input(\"Trip Name\")\n",
        "    start = st.date_input(\"Start Date\", datetime.date.today())\n",
        "    end = st.date_input(\"End Date\", datetime.date.today())\n",
        "    location = st.text_input(\"Trip Location\")\n",
        "\n",
        "    submit_trip = st.form_submit_button(\"Add Trip\")\n",
        "    if submit_trip:\n",
        "        trip_id = add_trip(name, start.isoformat(), end.isoformat(), location)\n",
        "        st.success(f\"✅ Trip #{trip_id} added successfully!\")\n",
        "\n",
        "# -------------------- Expense Form -------------------- #\n",
        "st.subheader(\"💰 Add an Expense\")\n",
        "\n",
        "with st.form(\"expense_form\"):\n",
        "    trip_id_input = st.number_input(\"Trip ID\", min_value=1, step=1)\n",
        "    category = st.selectbox(\"Category\", [\"Food\", \"Transport\", \"Lodging\", \"Activity\", \"Shopping\", \"Other\"])\n",
        "    amount = st.number_input(\"Amount\", min_value=0.0, step=1.0)\n",
        "    currency = st.text_input(\"Currency (e.g., INR, USD)\", value=\"INR\")\n",
        "    date = st.date_input(\"Expense Date\", datetime.date.today())\n",
        "    notes = st.text_area(\"Notes (optional)\")\n",
        "\n",
        "    submit_expense = st.form_submit_button(\"Add Expense\")\n",
        "    if submit_expense:\n",
        "        expense_id = add_expense(trip_id_input, category, amount, currency, date.isoformat(), notes)\n",
        "        st.success(f\"✅ Expense #{expense_id} added successfully!\")\n"
      ],
      "metadata": {
        "id": "bOfGGic8hO_i"
      },
      "execution_count": null,
      "outputs": []
    },
    {
      "cell_type": "code",
      "source": [
        "from google.colab import output\n",
        "output.enable_custom_widget_manager()"
      ],
      "metadata": {
        "id": "QFdHZScfiPXL"
      },
      "execution_count": null,
      "outputs": []
    },
    {
      "cell_type": "markdown",
      "source": [
        "Support for third party widgets will remain active for the duration of the session. To disable support:"
      ],
      "metadata": {
        "id": "Jl5VQ_7-iQXn"
      }
    },
    {
      "cell_type": "code",
      "source": [
        "from google.colab import output\n",
        "output.disable_custom_widget_manager()"
      ],
      "metadata": {
        "id": "rbP67F8fiQXo"
      },
      "execution_count": null,
      "outputs": []
    },
    {
      "cell_type": "markdown",
      "source": [
        "Support for third party widgets will remain active for the duration of the session. To disable support:"
      ],
      "metadata": {
        "id": "3GIuhoZEiPXP"
      }
    },
    {
      "cell_type": "code",
      "source": [
        "from google.colab import output\n",
        "output.disable_custom_widget_manager()"
      ],
      "metadata": {
        "id": "KhUVJF9piPXQ"
      },
      "execution_count": null,
      "outputs": []
    },
    {
      "cell_type": "code",
      "source": [
        "st.subheader(\"📋 All Trips\")\n",
        "st.dataframe(trips)\n",
        "\n",
        "st.subheader(\"📊 All Expenses\")\n",
        "st.dataframe(expenses)\n"
      ],
      "metadata": {
        "id": "RcDKdWiUibD7"
      },
      "execution_count": null,
      "outputs": []
    },
    {
      "cell_type": "code",
      "source": [
        "def convert_currency(amount, from_currency, to_currency=\"USD\"):\n",
        "    \"\"\"\n",
        "    Converts currency using exchangerate.host API.\n",
        "    Returns converted amount or None if API fails.\n",
        "    \"\"\"\n",
        "    try:\n",
        "        url = f\"https://api.exchangerate.host/convert?from={from_currency}&to={to_currency}&amount={amount}\"\n",
        "        response = requests.get(url)\n",
        "        result = response.json()\n",
        "        return result.get(\"result\", None)\n",
        "    except:\n",
        "        return None\n"
      ],
      "metadata": {
        "id": "9e3uK64Yii_u"
      },
      "execution_count": null,
      "outputs": []
    },
    {
      "cell_type": "code",
      "source": [
        "st.subheader(\"📈 Expense Summary (Converted to USD)\")\n",
        "\n",
        "trip_id_summary = st.number_input(\"Enter Trip ID to summarize\", min_value=1, step=1)\n",
        "\n",
        "if st.button(\"Generate Summary\"):\n",
        "    df = expenses[expenses[\"Trip ID\"] == trip_id_summary].copy()\n",
        "\n",
        "    if df.empty:\n",
        "        st.warning(\"No expenses found for this trip.\")\n",
        "    else:\n",
        "        # Convert each amount to USD\n",
        "        df[\"Amount in USD\"] = df.apply(\n",
        "            lambda row: convert_currency(row[\"Amount\"], row[\"Currency\"]), axis=1\n",
        "        )\n",
        "\n",
        "        # Group by category\n",
        "        summary = df.groupby(\"Category\")[\"Amount in USD\"].sum().reset_index()\n",
        "\n",
        "        # Show table\n",
        "        st.write(\"💵 Summary by Category (USD)\")\n",
        "        st.dataframe(summary)\n",
        "\n",
        "        # Show bar chart\n",
        "        st.bar_chart(summary.set_index(\"Category\")[\"Amount in USD\"])\n"
      ],
      "metadata": {
        "id": "izkByGQti0JG"
      },
      "execution_count": null,
      "outputs": []
    },
    {
      "cell_type": "code",
      "execution_count": null,
      "metadata": {
        "id": "GQ18Kd5F3uKe"
      },
      "outputs": [],
      "source": [
        "!pip install matplotlib-venn"
      ]
    },
    {
      "cell_type": "code",
      "execution_count": null,
      "metadata": {
        "id": "__3eqm3q3sr-"
      },
      "outputs": [],
      "source": [
        "!apt-get -qq install -y libfluidsynth1"
      ]
    },
    {
      "cell_type": "code",
      "execution_count": null,
      "metadata": {
        "id": "d_j7nNbKRmhx"
      },
      "outputs": [],
      "source": [
        "# https://pypi.python.org/pypi/libarchive\n",
        "!apt-get -qq install -y libarchive-dev && pip install -U libarchive\n",
        "import libarchive"
      ]
    },
    {
      "cell_type": "code",
      "execution_count": null,
      "metadata": {
        "id": "w9llCG2wSRDx"
      },
      "outputs": [],
      "source": [
        "# https://pypi.python.org/pypi/pydot\n",
        "!apt-get -qq install -y graphviz && pip install pydot\n",
        "import pydot"
      ]
    },
    {
      "cell_type": "code",
      "execution_count": null,
      "metadata": {
        "id": "Zq68DSY2rP2W",
        "collapsed": true
      },
      "outputs": [],
      "source": [
        "!pip install cartopy\n",
        "import cartopy"
      ]
    },
    {
      "cell_type": "code",
      "metadata": {
        "collapsed": true,
        "id": "87ed4f51"
      },
      "source": [
        "# Install required packages\n",
        "!pip install pandas streamlit streamlit_jupyter requests"
      ],
      "execution_count": null,
      "outputs": []
    },
    {
      "cell_type": "code",
      "source": [
        "# Save to CSV in the Colab session\n",
        "trips.to_csv(\"trips.csv\", index=False)\n",
        "expenses.to_csv(\"expenses.csv\", index=False)\n",
        "\n",
        "st.success(\"✅ Trips and Expenses saved as CSV in your Colab environment.\")\n"
      ],
      "metadata": {
        "id": "1SK7Y5i5eR0P"
      },
      "execution_count": null,
      "outputs": []
    },
    {
      "cell_type": "code",
      "metadata": {
        "id": "b9dca0fb"
      },
      "source": [
        "import pandas as pd\n",
        "import streamlit as st\n",
        "from streamlit_jupyter import StreamlitPatcher, tqdm\n",
        "import datetime\n",
        "import requests\n",
        "\n",
        "# Initialize empty tables\n",
        "trips = pd.DataFrame(columns=['trip_id', 'name', 'start_date', 'end_date', 'location'])\n",
        "expenses = pd.DataFrame(columns=['expense_id', 'trip_id', 'category', 'amount', 'currency', 'date', 'notes'])\n",
        "\n",
        "# Add a trip function\n",
        "def add_trip(name, start_date, end_date, location):\n",
        "    trip_id = len(trips) + 1\n",
        "    trips.loc[len(trips)] = [trip_id, name, start_date, end_date, location]\n",
        "    return trip_id\n",
        "\n",
        "# Add an expense function\n",
        "def add_expense(trip_id, category, amount, currency, date, notes=''):\n",
        "    expense_id = len(expenses) + 1\n",
        "    expenses.loc[len(expenses)] = [expense_id, trip_id, category, amount, currency, date, notes]\n",
        "    return expense_id\n",
        "\n",
        "# Add a sample trip\n",
        "add_trip(\"Kerala Tour\", \"2025-08-15\", \"2025-08-20\", \"Munnar, Kerala\")\n",
        "\n",
        "# Add a sample expense\n",
        "add_expense(trip_id=1, category=\"Food\", amount=250, currency=\"INR\", date=\"2025-08-16\", notes=\"Lunch at hotel\")\n",
        "\n",
        "# Save to CSV in the Colab session\n",
        "trips.to_csv(\"trips.csv\", index=False)\n",
        "expenses.to_csv(\"expenses.csv\", index=False)\n",
        "\n",
        "st.success(\"✅ Trips and Expenses saved as CSV in your Colab environment.\")"
      ],
      "execution_count": null,
      "outputs": []
    },
    {
      "cell_type": "code",
      "source": [
        "from google.colab import files\n",
        "files.download(\"trips.csv\")\n",
        "files.download(\"expenses.csv\")\n"
      ],
      "metadata": {
        "id": "rPIiGPadekKs"
      },
      "execution_count": null,
      "outputs": []
    },
    {
      "cell_type": "code",
      "source": [
        "from google.colab import drive\n",
        "drive.mount('/content/drive')\n"
      ],
      "metadata": {
        "id": "mgBlDiNle2FT"
      },
      "execution_count": null,
      "outputs": []
    },
    {
      "cell_type": "code",
      "metadata": {
        "id": "d61036b1"
      },
      "source": [
        "import pandas as pd\n",
        "import streamlit as st\n",
        "from streamlit_jupyter import StreamlitPatcher, tqdm\n",
        "import datetime\n",
        "import requests\n",
        "\n",
        "# Initialize empty tables\n",
        "trips = pd.DataFrame(columns=['trip_id', 'name', 'start_date', 'end_date', 'location'])\n",
        "expenses = pd.DataFrame(columns=['expense_id', 'trip_id', 'category', 'amount', 'currency', 'date', 'notes'])\n",
        "\n",
        "# Add a trip function\n",
        "def add_trip(name, start_date, end_date, location):\n",
        "    trip_id = len(trips) + 1\n",
        "    trips.loc[len(trips)] = [trip_id, name, start_date, end_date, location]\n",
        "    return trip_id\n",
        "\n",
        "# Add an expense function\n",
        "def add_expense(trip_id, category, amount, currency, date, notes=''):\n",
        "    expense_id = len(expenses) + 1\n",
        "    expenses.loc[len(expenses)] = [expense_id, trip_id, category, amount, currency, date, notes]\n",
        "    return expense_id\n",
        "\n",
        "# Add a sample trip\n",
        "add_trip(\"Kerala Tour\", \"2025-08-15\", \"2025-08-20\", \"Munnar, Kerala\")\n",
        "\n",
        "# Add a sample expense\n",
        "add_expense(trip_id=1, category=\"Food\", amount=250, currency=\"INR\", date=\"2025-08-16\", notes=\"Lunch at hotel\")\n",
        "\n",
        "# Save to CSV in the Colab session\n",
        "trips.to_csv(\"trips.csv\", index=False)\n",
        "expenses.to_csv(\"expenses.csv\", index=False)\n",
        "\n",
        "st.success(\"✅ Trips and Expenses saved as CSV in your Colab environment.\")"
      ],
      "execution_count": null,
      "outputs": []
    },
    {
      "cell_type": "code",
      "source": [
        "# Replace 'MyDrive' with any subfolder if you want\n",
        "trips.to_csv(\"/content/drive/MyDrive/trips.csv\", index=False)\n",
        "expenses.to_csv(\"/content/drive/MyDrive/expenses.csv\", index=False)\n",
        "\n",
        "st.success(\"✅ Trips and Expenses saved to Google Drive (MyDrive folder).\")\n"
      ],
      "metadata": {
        "id": "kPrx7RGggFF9"
      },
      "execution_count": null,
      "outputs": []
    },
    {
      "cell_type": "code",
      "source": [
        "# Dictionary to store members per trip\n",
        "group_members = {}  # { trip_id: [member1, member2, ...] }\n",
        "\n",
        "def add_members(trip_id, members_list):\n",
        "    \"\"\"\n",
        "    Adds a list of members to a trip.\n",
        "    \"\"\"\n",
        "    group_members[trip_id] = members_list\n"
      ],
      "metadata": {
        "id": "42BqzjGqglk1"
      },
      "execution_count": null,
      "outputs": []
    },
    {
      "cell_type": "code",
      "source": [
        "st.subheader(\"👥 Add Group Members for a Trip\")\n",
        "\n",
        "with st.form(\"members_form\"):\n",
        "    trip_id_members = st.number_input(\"Trip ID\", min_value=1, step=1, key=\"trip_member_id\")\n",
        "    members_input = st.text_area(\"Enter member names (comma-separated)\", \"Alice, Bob, Charlie\")\n",
        "\n",
        "    if st.form_submit_button(\"Add Members\"):\n",
        "        members_list = [name.strip() for name in members_input.split(\",\") if name.strip()]\n",
        "        add_members(trip_id_members, members_list)\n",
        "        st.success(f\"✅ Members added for Trip #{trip_id_members}: {', '.join(members_list)}\")\n"
      ],
      "metadata": {
        "collapsed": true,
        "id": "vjAlQRl0gqBd"
      },
      "execution_count": null,
      "outputs": []
    },
    {
      "cell_type": "code",
      "source": [
        "st.subheader(\"💸 Split Expenses Among Members\")\n",
        "\n",
        "split_trip_id = st.number_input(\"Trip ID to Split\", min_value=1, step=1, key=\"split_trip\")\n",
        "\n",
        "if st.button(\"Split Expenses\"):\n",
        "    if split_trip_id not in group_members:\n",
        "        st.warning(\"No group members found for this trip. Add them first.\")\n",
        "    else:\n",
        "        df = expenses[expenses[\"Trip ID\"] == split_trip_id].copy()\n",
        "        df[\"USD\"] = df.apply(lambda row: convert_currency(row[\"Amount\"], row[\"Currency\"]), axis=1)\n",
        "        total = df[\"USD\"].sum()\n",
        "        members = group_members[split_trip_id]\n",
        "        per_person = total / len(members)\n",
        "\n",
        "        st.write(f\"💰 Total (USD): ${total:.2f}\")\n",
        "        st.write(f\"👥 Members: {', '.join(members)}\")\n",
        "        st.write(f\"📤 Each person should pay: ${per_person:.2f}\")\n",
        "\n",
        "        st.dataframe(pd.DataFrame({\n",
        "            \"Member\": members,\n",
        "            \"Owes (USD)\": [round(per_person, 2)] * len(members)\n",
        "        }))\n"
      ],
      "metadata": {
        "collapsed": true,
        "id": "kYFfDbQrg0YN"
      },
      "execution_count": null,
      "outputs": []
    },
    {
      "cell_type": "code",
      "source": [
        "# Replace with your actual OpenWeatherMap API key\n",
        "WEATHER_API_KEY = \"YOUR_API_KEY_HERE\"\n",
        "\n",
        "def get_weather(location):\n",
        "    \"\"\"\n",
        "    Fetches current weather data for a given location using OpenWeatherMap API.\n",
        "    \"\"\"\n",
        "    url = f\"http://api.openweathermap.org/data/2.5/weather?q={location}&appid={WEATHER_API_KEY}&units=metric\"\n",
        "    try:\n",
        "        response = requests.get(url)\n",
        "        data = response.json()\n",
        "        if data.get(\"cod\") != 200:\n",
        "            return None\n",
        "        weather = {\n",
        "            \"Location\": location,\n",
        "            \"Temperature (°C)\": data[\"main\"][\"temp\"],\n",
        "            \"Weather\": data[\"weather\"][0][\"description\"],\n",
        "            \"Humidity (%)\": data[\"main\"][\"humidity\"],\n",
        "            \"Wind Speed (m/s)\": data[\"wind\"][\"speed\"]\n",
        "        }\n",
        "        return weather\n",
        "    except Exception as e:\n",
        "        return None\n"
      ],
      "metadata": {
        "id": "w2MYDPgMg77i"
      },
      "execution_count": null,
      "outputs": []
    },
    {
      "cell_type": "code",
      "execution_count": null,
      "metadata": {
        "collapsed": true,
        "id": "6eeaNDi-_p72"
      },
      "outputs": [],
      "source": [
        "!pip install matplotlib-venn"
      ]
    },
    {
      "cell_type": "code",
      "execution_count": null,
      "metadata": {
        "id": "RwhpCO7R_0IH"
      },
      "outputs": [],
      "source": [
        "!apt-get -qq install -y libfluidsynth1"
      ]
    },
    {
      "cell_type": "code",
      "execution_count": null,
      "metadata": {
        "collapsed": true,
        "id": "0-0X3abZ_7Ey"
      },
      "outputs": [],
      "source": [
        "# https://pypi.python.org/pypi/libarchive\n",
        "!apt-get -qq install -y libarchive-dev && pip install -U libarchive\n",
        "import libarchive"
      ]
    },
    {
      "cell_type": "code",
      "execution_count": null,
      "metadata": {
        "id": "N3t6LKk2AE7W"
      },
      "outputs": [],
      "source": [
        "# https://pypi.python.org/pypi/pydot\n",
        "!apt-get -qq install -y graphviz && pip install pydot\n",
        "import pydot"
      ]
    },
    {
      "cell_type": "code",
      "execution_count": null,
      "metadata": {
        "collapsed": true,
        "id": "f8zAG3b9ALFU"
      },
      "outputs": [],
      "source": [
        "!pip install cartopy\n",
        "import cartopy"
      ]
    },
    {
      "cell_type": "code",
      "source": [
        "# Replace YOUR_API_KEY_HERE with your actual OpenWeatherMap API key\n",
        "WEATHER_API_KEY = \"YOUR_API_KEY_HERE\"\n",
        "\n",
        "def get_weather(location):\n",
        "    url = f\"http://api.openweathermap.org/data/2.5/weather?q={location}&appid={WEATHER_API_KEY}&units=metric\"\n",
        "    try:\n",
        "        response = requests.get(url)\n",
        "        data = response.json()\n",
        "        if data.get(\"cod\") != 200:\n",
        "            return None\n",
        "        weather = {\n",
        "            \"Location\": location,\n",
        "            \"Temperature (°C)\": data[\"main\"][\"temp\"],\n",
        "            \"Weather\": data[\"weather\"][0][\"description\"],\n",
        "            \"Humidity (%)\": data[\"main\"][\"humidity\"],\n",
        "            \"Wind Speed (m/s)\": data[\"wind\"][\"speed\"]\n",
        "        }\n",
        "        return weather\n",
        "    except:\n",
        "        return None\n"
      ],
      "metadata": {
        "id": "kj56AksQBjMw"
      },
      "execution_count": null,
      "outputs": []
    },
    {
      "cell_type": "code",
      "source": [
        "# Install required packages\n",
        "!pip install pandas streamlit streamlit_jupyter requests"
      ],
      "metadata": {
        "collapsed": true,
        "id": "FAcA--OoDXiI"
      },
      "execution_count": null,
      "outputs": []
    },
    {
      "cell_type": "code",
      "source": [
        "import streamlit as st\n",
        "from streamlit_jupyter import StreamlitPatcher\n",
        "import requests # Import requests as it's used by get_weather\n",
        "\n",
        "# Enable Streamlit to run inside Colab\n",
        "StreamlitPatcher().jupyter()\n",
        "\n",
        "st.subheader(\"🌦️ Check Weather for a Trip Location\")\n",
        "\n",
        "weather_location = st.text_input(\"Enter City Name (e.g., Munnar, Delhi, Paris)\", value=\"Munnar\")\n",
        "\n",
        "if st.button(\"Check Weather\"):\n",
        "    # Note: The get_weather function must be defined in a previously run cell (w2MYDPgMg77i)\n",
        "    weather_data = get_weather(weather_location)\n",
        "\n",
        "    if weather_data:\n",
        "        st.markdown(\"### 📍 Weather Information:\")\n",
        "        st.write(f\"**Location:** {weather_data['Location']}\")\n",
        "        st.write(f\"**Temperature (°C):** {weather_data['Temperature (°C)']}\")\n",
        "        st.write(f\"**Condition:** {weather_data['Weather'].title()}\")\n",
        "        st.write(f\"**Humidity (%):** {weather_data['Humidity (%)']}\")\n",
        "        st.write(f\"**Wind Speed (m/s):** {weather_data['Wind Speed (m/s)']}\")\n",
        "    else:\n",
        "        st.warning(\"❌ Could not fetch weather data. Please check the city name or your API key.\")"
      ],
      "metadata": {
        "id": "e5MpPflrBsTT"
      },
      "execution_count": null,
      "outputs": []
    },
    {
      "cell_type": "code",
      "source": [
        "from google.colab import output\n",
        "output.enable_custom_widget_manager()"
      ],
      "metadata": {
        "id": "4MGsWnY-DkAr"
      },
      "execution_count": null,
      "outputs": []
    },
    {
      "cell_type": "markdown",
      "source": [
        "Support for third party widgets will remain active for the duration of the session. To disable support:"
      ],
      "metadata": {
        "id": "SE1cRKZxDkAs"
      }
    },
    {
      "cell_type": "code",
      "source": [
        "from google.colab import output\n",
        "output.disable_custom_widget_manager()"
      ],
      "metadata": {
        "id": "HviiExbiDkAt"
      },
      "execution_count": null,
      "outputs": []
    },
    {
      "cell_type": "code",
      "metadata": {
        "id": "148ec7f3"
      },
      "source": [
        "import streamlit as st\n",
        "from streamlit_jupyter import StreamlitPatcher\n",
        "\n",
        "# Enable Streamlit to run inside Colab\n",
        "StreamlitPatcher().jupyter()\n",
        "\n",
        "st.write(\"Streamlit is now defined and ready to use.\")"
      ],
      "execution_count": null,
      "outputs": []
    },
    {
      "cell_type": "code",
      "source": [
        "st.subheader(\"🌦️ Check Weather for a Trip Location\")\n",
        "\n",
        "weather_location = st.text_input(\"Enter City Name\", value=\"Munnar\")\n",
        "\n",
        "if st.button(\"Check Weather\"):\n",
        "    weather_data = get_weather(weather_location)\n",
        "    if weather_data:\n",
        "        st.write(\"📍 Weather Information:\")\n",
        "        st.json(weather_data)\n",
        "    else:\n",
        "        st.warning(\"❌ Could not fetch weather data. Check city name or API key.\")\n"
      ],
      "metadata": {
        "id": "UDjWYDdIDugw"
      },
      "execution_count": null,
      "outputs": []
    },
    {
      "cell_type": "code",
      "source": [
        "from google.colab import output\n",
        "output.enable_custom_widget_manager()"
      ],
      "metadata": {
        "id": "KprWKTuJD5uf"
      },
      "execution_count": null,
      "outputs": []
    },
    {
      "cell_type": "markdown",
      "source": [
        "Support for third party widgets will remain active for the duration of the session. To disable support:"
      ],
      "metadata": {
        "id": "6_yYnGsGD5uh"
      }
    },
    {
      "cell_type": "code",
      "source": [
        "from google.colab import output\n",
        "output.disable_custom_widget_manager()"
      ],
      "metadata": {
        "id": "RmpvR2r7D5ui"
      },
      "execution_count": null,
      "outputs": []
    },
    {
      "cell_type": "code",
      "source": [
        "# Install required packages\n",
        "!pip install pandas streamlit streamlit_jupyter requests"
      ],
      "metadata": {
        "collapsed": true,
        "id": "3RgKskmqEg7x"
      },
      "execution_count": null,
      "outputs": []
    },
    {
      "cell_type": "markdown",
      "metadata": {
        "id": "41d219cd"
      },
      "source": [
        "📍 Weather Information:\n",
        "{\n",
        "  \"Location\": \"Munnar\",\n",
        "  \"Temperature (°C)\": 23.6,\n",
        "  \"Weather\": \"scattered clouds\",\n",
        "  \"Humidity (%)\": 77,\n",
        "  \"Wind Speed (m/s)\": 3.2\n",
        "}"
      ]
    },
    {
      "cell_type": "code",
      "source": [
        "!pip install streamlit_folium folium\n"
      ],
      "metadata": {
        "collapsed": true,
        "id": "wfsuzp9qOsp7"
      },
      "execution_count": null,
      "outputs": []
    },
    {
      "cell_type": "code",
      "source": [
        "from streamlit_folium import st_folium\n",
        "import folium\n",
        "from geopy.geocoders import Nominatim\n"
      ],
      "metadata": {
        "id": "-SbKMbnYOx2-"
      },
      "execution_count": null,
      "outputs": []
    },
    {
      "cell_type": "code",
      "source": [
        "def show_location_on_map(place_name):\n",
        "    try:\n",
        "        geolocator = Nominatim(user_agent=\"trip_companion\")\n",
        "        location = geolocator.geocode(place_name)\n",
        "        if location:\n",
        "            st.success(f\"📍 {place_name} found: {location.latitude}, {location.longitude}\")\n",
        "\n",
        "            # Create a folium map centered at the location\n",
        "            m = folium.Map(location=[location.latitude, location.longitude], zoom_start=12)\n",
        "            folium.Marker([location.latitude, location.longitude], tooltip=place_name).add_to(m)\n",
        "\n",
        "            # Render in Streamlit\n",
        "            st_folium(m, width=700, height=500)\n",
        "        else:\n",
        "            st.warning(\"❌ Location not found. Please try a more specific name.\")\n",
        "    except Exception as e:\n",
        "        st.error(f\"Error occurred: {e}\")\n"
      ],
      "metadata": {
        "id": "wnAdQtF_PHhJ"
      },
      "execution_count": null,
      "outputs": []
    },
    {
      "cell_type": "code",
      "source": [
        "st.subheader(\"🗺️ Trip Destination Map Preview\")\n",
        "\n",
        "location_name = st.text_input(\"Enter a location to view on map:\", value=\"Munnar\")\n",
        "\n",
        "if st.button(\"Show on Map\"):\n",
        "    show_location_on_map(location_name)\n"
      ],
      "metadata": {
        "id": "WCXLioRmPPqD"
      },
      "execution_count": null,
      "outputs": []
    },
    {
      "cell_type": "code",
      "source": [
        "from google.colab import output\n",
        "output.enable_custom_widget_manager()"
      ],
      "metadata": {
        "id": "zMIy_fRuPZ1m"
      },
      "execution_count": null,
      "outputs": []
    },
    {
      "cell_type": "markdown",
      "source": [
        "Support for third party widgets will remain active for the duration of the session. To disable support:"
      ],
      "metadata": {
        "id": "vDWBUXd5PZ1n"
      }
    },
    {
      "cell_type": "code",
      "source": [
        "from google.colab import output\n",
        "output.disable_custom_widget_manager()"
      ],
      "metadata": {
        "id": "i-KLNfBgPZ1n"
      },
      "execution_count": null,
      "outputs": []
    },
    {
      "cell_type": "code",
      "source": [
        "\"Munnar\""
      ],
      "metadata": {
        "id": "U2YncKLvPdSG"
      },
      "execution_count": null,
      "outputs": []
    },
    {
      "cell_type": "code",
      "source": [
        "!pip install streamlit_authenticator\n"
      ],
      "metadata": {
        "collapsed": true,
        "id": "YA77NfslQP1Q"
      },
      "execution_count": null,
      "outputs": []
    },
    {
      "cell_type": "code",
      "source": [
        "import streamlit_authenticator as stauth\n",
        "import yaml\n",
        "from yaml.loader import SafeLoader\n"
      ],
      "metadata": {
        "id": "cjaVaiX8QYtd"
      },
      "execution_count": null,
      "outputs": []
    },
    {
      "cell_type": "code",
      "metadata": {
        "id": "49a1ed04"
      },
      "source": [
        "import pandas as pd\n",
        "import requests\n",
        "\n",
        "# Initialize empty tables (ensure they are defined)\n",
        "trips = pd.DataFrame(columns=['trip_id', 'name', 'start_date', 'end_date', 'location'])\n",
        "expenses = pd.DataFrame(columns=['expense_id', 'trip_id', 'category', 'amount', 'currency', 'date', 'notes'])\n",
        "\n",
        "# Dictionary to store members per trip (ensure it's defined)\n",
        "group_members = {}\n",
        "\n",
        "# Add a trip function (ensure it's defined)\n",
        "def add_trip(name, start_date, end_date, location):\n",
        "    trip_id = len(trips) + 1\n",
        "    trips.loc[len(trips)] = [trip_id, name, start_date, end_date, location]\n",
        "    return trip_id\n",
        "\n",
        "# Add an expense function (ensure it's defined)\n",
        "def add_expense(trip_id, category, amount, currency, date, notes=''):\n",
        "    expense_id = len(expenses) + 1\n",
        "    expenses.loc[len(expenses)] = [expense_id, trip_id, category, amount, currency, date, notes]\n",
        "    return expense_id\n",
        "\n",
        "# Currency converter function (ensure it's defined and requests is imported)\n",
        "def convert_currency(amount, from_currency, to_currency=\"USD\"):\n",
        "    \"\"\"\n",
        "    Converts currency using exchangerate.host API.\n",
        "    Returns converted amount or None if API fails.\n",
        "    \"\"\"\n",
        "    try:\n",
        "        url = f\"https://api.exchangerate.host/convert?from={from_currency}&to={to_currency}&amount={amount}\"\n",
        "        response = requests.get(url)\n",
        "        result = response.json()\n",
        "        return result.get(\"result\", None)\n",
        "    except Exception as e:\n",
        "        print(f\"Currency conversion error: {e}\") # Use print for non-Streamlit context\n",
        "        return None\n",
        "\n",
        "# Add a sample trip and expenses\n",
        "trip_id_1 = add_trip(\"Beach Getaway\", \"2025-09-10\", \"2025-09-15\", \"Goa\")\n",
        "add_expense(trip_id=trip_id_1, category=\"Food\", amount=3000, currency=\"INR\", date=\"2025-09-11\", notes=\"Dinner\")\n",
        "add_expense(trip_id=trip_id_1, category=\"Transport\", amount=50, currency=\"USD\", date=\"2025-09-12\", notes=\"Taxi\")\n",
        "add_expense(trip_id=trip_id_1, category=\"Lodging\", amount=10000, currency=\"INR\", date=\"2025-09-13\", notes=\"Hotel stay\")\n",
        "\n",
        "# Add members to the trip\n",
        "trip_id_members = trip_id_1\n",
        "members_list = [\"Alice\", \"Bob\", \"Charlie\"]\n",
        "group_members[trip_id_members] = members_list\n",
        "\n",
        "# --- Expense Splitting Logic (from kYFfDbQrg0YN, adapted for non-Streamlit output) ---\n",
        "print(f\"\\n💸 Splitting Expenses for Trip ID: {trip_id_members}\")\n",
        "\n",
        "if trip_id_members not in group_members:\n",
        "    print(\"Warning: No group members found for this trip.\")\n",
        "else:\n",
        "    df = expenses[expenses[\"trip_id\"] == trip_id_members].copy()\n",
        "\n",
        "    if df.empty:\n",
        "        print(\"Warning: No expenses for this trip.\")\n",
        "    else:\n",
        "        # Convert each amount to USD\n",
        "        df[\"USD_Amount\"] = df.apply(\n",
        "            lambda row: convert_currency(row[\"amount\"], row[\"currency\"]), axis=1\n",
        "        )\n",
        "\n",
        "        # Handle potential None values from conversion\n",
        "        df_converted = df.dropna(subset=[\"USD_Amount\"])\n",
        "\n",
        "        if df_converted.empty:\n",
        "             print(\"Warning: No expenses could be converted to USD for this trip.\")\n",
        "        else:\n",
        "            total_usd = df_converted[\"USD_Amount\"].sum()\n",
        "            members = group_members[trip_id_members]\n",
        "            num_members = len(members)\n",
        "\n",
        "            if num_members > 0:\n",
        "                per_person_usd = total_usd / num_members\n",
        "\n",
        "                print(f\"💰 Total Expense (Converted to USD): ${total_usd:.2f}\")\n",
        "                print(f\"👥 Members: {', '.join(members)}\")\n",
        "                print(f\"📤 Each person should pay: ${per_person_usd:.2f}\")\n",
        "\n",
        "                # Display summary table\n",
        "                split_summary = pd.DataFrame({\n",
        "                    \"Member\": members,\n",
        "                    \"Owes (USD)\": [round(per_person_usd, 2)] * num_members\n",
        "                })\n",
        "                print(\"\\nSplit Summary:\")\n",
        "                display(split_summary) # Use display for better DataFrame output\n",
        "            else:\n",
        "                 print(\"Warning: No members added to this trip to split expenses with.\")"
      ],
      "execution_count": null,
      "outputs": []
    },
    {
      "cell_type": "code",
      "execution_count": null,
      "metadata": {
        "collapsed": true,
        "id": "rwZSepfGihMH"
      },
      "outputs": [],
      "source": [
        "!pip install matplotlib-venn"
      ]
    },
    {
      "cell_type": "code",
      "metadata": {
        "collapsed": true,
        "id": "deedc077"
      },
      "source": [
        "!pip install streamlit_authenticator"
      ],
      "execution_count": null,
      "outputs": []
    },
    {
      "cell_type": "code",
      "source": [
        "import streamlit_authenticator as stauth\n",
        "import yaml\n",
        "from yaml.loader import SafeLoader"
      ],
      "metadata": {
        "collapsed": true,
        "id": "7ffE34VEjhyc"
      },
      "execution_count": null,
      "outputs": []
    },
    {
      "cell_type": "code",
      "source": [
        "import streamlit as st\n",
        "import streamlit_authenticator as stauth\n",
        "import yaml\n",
        "from yaml.loader import SafeLoader\n",
        "\n",
        "# Load config.yaml file for credentials and cookie settings\n",
        "with open('config.yaml') as file:\n",
        "    config = yaml.load(file, Loader=SafeLoader)\n",
        "\n",
        "# Setup authenticator\n",
        "authenticator = stauth.Authenticate(\n",
        "    config['credentials'],\n",
        "    config['cookie']['name'],\n",
        "    config['cookie']['key'],\n",
        "    config['cookie']['expiry_days']\n",
        ")\n",
        "\n",
        "# Login UI\n",
        "name, authentication_status, username = authenticator.login(\"Login\", \"main\")\n",
        "\n",
        "# Login failed\n",
        "if authentication_status is False:\n",
        "    st.error(\"❌ Incorrect username or password\")\n",
        "\n",
        "# Login not attempted yet\n",
        "elif authentication_status is None:\n",
        "    st.warning(\"🔑 Please enter your username and password\")\n",
        "\n",
        "# Login successful\n",
        "elif authentication_status:\n",
        "    # Logout button\n",
        "    authenticator.logout(\"Logout\", \"sidebar\")\n",
        "    st.sidebar.success(f\"✅ Logged in as {name}\")\n",
        "\n",
        "    # Main app interface\n",
        "    st.title(\"🚗 Trip Companion – Tour Together & Expense Tracker\")\n",
        "    st.write(\"Welcome to your personal travel dashboard! 👋\")\n",
        "\n",
        "    # Your main app modules go here\n",
        "    # e.g., trip planner, map, weather, expenses, chat, etc.\n",
        "    # Example placeholder:\n",
        "    st.subheader(\"📍 Start by adding a trip or checking your travel plans below!\")\n"
      ],
      "metadata": {
        "id": "KZiBKF9Eme4g"
      },
      "execution_count": null,
      "outputs": []
    },
    {
      "cell_type": "code",
      "metadata": {
        "collapsed": true,
        "id": "0807e187"
      },
      "source": [
        "import streamlit_authenticator as stauth\n",
        "import yaml\n",
        "import bcrypt # bcrypt is needed by streamlit_authenticator.Hasher\n",
        "from yaml.loader import SafeLoader\n",
        "\n",
        "# --- Create the configuration data ---\n",
        "names = ['Alice Smith', 'Bob Jones']\n",
        "usernames = ['alice', 'bob']\n",
        "passwords = ['123', '456']\n",
        "\n",
        "# Hash the passwords\n",
        "# Note: You might encounter the TypeError here due to the Hasher issue discussed previously\n",
        "try:\n",
        "    hashed_passwords = stauth.Hasher(passwords).generate()\n",
        "    st.write(\"Password hashing successful.\") # Use st.write for potential Streamlit context feedback\n",
        "except TypeError as e:\n",
        "    print(f\"Error during password hashing: {e}\") # Print error if st is not defined\n",
        "    hashed_passwords = passwords # Fallback to plaintext if hashing fails (NOT secure for production!)\n",
        "    st.warning(\"Password hashing failed. Storing plaintext passwords (UNSAFE).\") # Use st.warning\n",
        "\n",
        "\n",
        "# Store login config in a dictionary\n",
        "config = {\n",
        "    'credentials': {\n",
        "        'usernames': {\n",
        "            usernames[0]: {'name': names[0], 'password': hashed_passwords[0]},\n",
        "            usernames[1]: {'name': names[1], 'password': hashed_passwords[1]},\n",
        "        }\n",
        "    },\n",
        "    'cookie': {\n",
        "        'name': 'trip_app_login',\n",
        "        'key': 'random_signature_key', # Replace with a real random key for production\n",
        "        'expiry_days': 1\n",
        "    },\n",
        "    'preauthorized': {\n",
        "        'emails': []\n",
        "    }\n",
        "}\n",
        "\n",
        "# --- Write the configuration to config.yaml ---\n",
        "try:\n",
        "    with open('config.yaml', 'w') as file:\n",
        "        yaml.dump(config, file, default_flow_style=False)\n",
        "    st.success(\"✅ config.yaml created successfully.\") # Use st.success for Streamlit context\n",
        "except Exception as e:\n",
        "    print(f\"Error writing config.yaml: {e}\") # Print error if st is not defined\n",
        "    st.error(\"❌ Error creating config.yaml.\") # Use st.error"
      ],
      "execution_count": null,
      "outputs": []
    },
    {
      "cell_type": "markdown",
      "metadata": {
        "id": "251fabaf"
      },
      "source": [
        "credentials:\n",
        "  usernames:\n",
        "    febina:\n",
        "      name: Febina M\n",
        "      password: 'hashed_password_here'\n",
        "\n",
        "cookie:\n",
        "  name: trip_companion_cookie\n",
        "  key: some_random_key_here\n",
        "  expiry_days: 30"
      ]
    },
    {
      "cell_type": "code",
      "source": [
        "import pandas as pd\n",
        "import matplotlib.pyplot as plt\n",
        "import os # Import the os module\n",
        "import streamlit as st\n",
        "from streamlit_jupyter import StreamlitPatcher\n",
        "\n",
        "# Enable Streamlit to run inside Colab\n",
        "StreamlitPatcher().jupyter()\n",
        "\n",
        "\n",
        "st.subheader(\"📊 Trip Dashboard\")\n",
        "\n",
        "# Load trips and expenses\n",
        "if \"trips.csv\" in os.listdir():\n",
        "    trips_df = pd.read_csv(\"trips.csv\")\n",
        "    st.write(\"🧳 Your Trips:\")\n",
        "    st.dataframe(trips_df)\n",
        "else:\n",
        "    st.warning(\"No trips data found.\")\n",
        "\n",
        "if \"expenses.csv\" in os.listdir():\n",
        "    expenses_df = pd.read_csv(\"expenses.csv\")\n",
        "    st.write(\"💸 Trip Expenses:\")\n",
        "    st.dataframe(expenses_df)\n",
        "else:\n",
        "    st.warning(\"No expenses data found.\")"
      ],
      "metadata": {
        "collapsed": true,
        "id": "gKgWBGsGn51k"
      },
      "execution_count": null,
      "outputs": []
    },
    {
      "cell_type": "code",
      "source": [
        "if \"expenses_df\" in locals():\n",
        "    expense_summary = expenses_df.groupby(\"Trip\")[\"Amount\"].sum().reset_index()\n",
        "    st.write(\"💵 Total Expenses per Trip\")\n",
        "\n",
        "    fig, ax = plt.subplots()\n",
        "    ax.bar(expense_summary[\"Trip\"], expense_summary[\"Amount\"], color='skyblue')\n",
        "    ax.set_ylabel(\"Total Amount\")\n",
        "    ax.set_xlabel(\"Trip\")\n",
        "    ax.set_title(\"Expenses by Trip\")\n",
        "    st.pyplot(fig)\n"
      ],
      "metadata": {
        "id": "TG26laJAoR7p"
      },
      "execution_count": null,
      "outputs": []
    },
    {
      "cell_type": "code",
      "source": [
        "if \"expenses_df\" in locals():\n",
        "    st.write(\"🧑‍🤝‍🧑 Expense Distribution by Participant\")\n",
        "    participant_summary = expenses_df.groupby(\"Participant\")[\"Amount\"].sum()\n",
        "\n",
        "    fig2, ax2 = plt.subplots()\n",
        "    ax2.pie(participant_summary, labels=participant_summary.index, autopct=\"%1.1f%%\")\n",
        "    ax2.set_title(\"Share of Total Expenses\")\n",
        "    st.pyplot(fig2)\n"
      ],
      "metadata": {
        "id": "179Hd7TeoUVE"
      },
      "execution_count": null,
      "outputs": []
    },
    {
      "cell_type": "code",
      "source": [],
      "metadata": {
        "id": "zv0vi6jooZHy"
      },
      "execution_count": null,
      "outputs": []
    }
  ]
}